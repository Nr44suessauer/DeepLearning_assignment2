{
 "cells": [
  {
   "cell_type": "code",
   "execution_count": 350,
   "metadata": {},
   "outputs": [],
   "source": [
    "# %pip install tensorflow\n",
    "# %pip install keras\n",
    "\n",
    "# %pip install --upgrade keras\n",
    "# %pip install --upgrade keras-cv\n",
    "# %pip install --upgrade keras-hub\n",
    "# %pip install --upgrade keras\n",
    "# %pip install --upgrade typing_extensions\n",
    "\n",
    "# info http://neuralnetworksanddeeplearning.com/chap1.html\n",
    "\n",
    "\n",
    "# Config for 1 or 2 Hidden Layers in the Neural Network | True = ON, False = OFF\n",
    "Layer_ONE                       = True\n",
    "Layer_TWO                       = True\n",
    "\n",
    "KFOLD                           = 10\n",
    "EPOCHS                          = 2\n",
    "BATCH_SIZE                      = 128\n",
    "\n",
    "\n",
    "HiddenLayer_ONE_Neurons         = 32\n",
    "HiddenLayer_TWO_Neurons         = 16\n",
    "\n",
    "Output_Neurons                  = 10   # Assuming MNIST digits: 10 output classes\n",
    "\n",
    "# 0 = sigmoid, 1 = tanh, 2 = relu, 3 = leaky relu, 4 = softmax \n",
    "ChooseActivationFunction_ONE    = 2 \n",
    "ChooseActivationFunction_TWO    = 2 \n",
    " \n",
    "ChooseActivationFunction_OUTPUT = 4 \n",
    "\n",
    "import tensorflow as tf\n",
    "import numpy as np\n",
    "from sklearn.model_selection import KFold"
   ]
  },
  {
   "cell_type": "code",
   "execution_count": 351,
   "metadata": {},
   "outputs": [],
   "source": [
    "# Lade das MNIST-Datenset und teile es in Trainings- und Testdaten auf\n",
    "(x_train, y_train), (x_test, y_test) = tf.keras.datasets.mnist.load_data()\n",
    "# Prüfe, ob die Datensätze die erwarteten Formen haben\n",
    "assert x_train.shape == (60000, 28, 28) # Input \n",
    "assert x_test.shape == (10000, 28, 28)  # Input\n",
    "assert y_train.shape == (60000,)        # Feature/Label\n",
    "assert y_test.shape == (10000,)         # Feature/Label\n",
    "    \n",
    "    \n",
    "# Erstelle ein tf.data.Dataset aus dem Trainingsdatensatz\n",
    "# Dabei werden die Bilder und Labels als Dictionary abgelegt, um später über die Schlüssel zugreifen zu können\n",
    "ds = tf.data.Dataset.from_tensor_slices({\"image\": x_train, \"label\": y_train})\n"
   ]
  },
  {
   "cell_type": "code",
   "execution_count": 352,
   "metadata": {},
   "outputs": [],
   "source": [
    "def Layer_ONE_ACTIVATION(choice):\n",
    "  if choice == 0:\n",
    "    return \"sigmoid\"\n",
    "  elif choice == 1:\n",
    "    return \"tanh\"\n",
    "  elif choice == 2:\n",
    "    return \"relu\"\n",
    "  elif choice == 3:\n",
    "    return tf.keras.layers.LeakyReLU() \n",
    "  elif choice == 4:\n",
    "    return \"softmax\"\n",
    "  else:\n",
    "    return \"sigmoid\"\n",
    "\n",
    "def Layer_TWO_ACTIVATION(choice):\n",
    "  if choice == 0:\n",
    "    return \"sigmoid\"\n",
    "  elif choice == 1:\n",
    "    return \"tanh\"\n",
    "  elif choice == 2:\n",
    "    return \"relu\"\n",
    "  elif choice == 3:\n",
    "    return tf.keras.layers.LeakyReLU()\n",
    "  elif choice == 4:\n",
    "    return \"softmax\"\n",
    "  else:\n",
    "    return \"sigmoid\"\n",
    "\n",
    "def OUTPUT_ACTIVATION(choice):\n",
    "  if choice == 0:\n",
    "    return \"sigmoid\"\n",
    "  elif choice == 1:\n",
    "    return \"tanh\"\n",
    "  elif choice == 2:\n",
    "    return \"relu\"\n",
    "  elif choice == 3:\n",
    "    return tf.keras.layers.LeakyReLU()\n",
    "  elif choice == 4:\n",
    "    return \"softmax\"\n",
    "  else:\n",
    "    return \"sigmoid\"\n",
    "\n",
    "\n",
    "#------------------------------------------------------------------------------\n",
    "# Model CONFIGURATION\n",
    "#------------------------------------------------------------------------------\n",
    "\n",
    "if Layer_ONE:\n",
    "  activation_one = Layer_ONE_ACTIVATION(ChooseActivationFunction_ONE)\n",
    "\n",
    "if Layer_TWO:\n",
    "  activation_two = Layer_TWO_ACTIVATION(ChooseActivationFunction_TWO)\n",
    "\n",
    "if Output_Neurons: \n",
    "  activation_output = OUTPUT_ACTIVATION(ChooseActivationFunction_OUTPUT)\n",
    "\n",
    "\n",
    "# Build the model using the chosen activations\n",
    "layers = [\n",
    "  tf.keras.layers.Input(shape=(28, 28, 1)),\n",
    "  tf.keras.layers.Flatten()\n",
    "]\n",
    "\n",
    "if Layer_ONE:\n",
    "  layers.append(tf.keras.layers.Dense(HiddenLayer_ONE_Neurons, activation=activation_one))\n",
    "\n",
    "if Layer_TWO:\n",
    "  layers.append(tf.keras.layers.Dense(HiddenLayer_TWO_Neurons, activation=activation_two))\n",
    "\n",
    "layers.append(tf.keras.layers.Dense(Output_Neurons, activation=activation_output))\n",
    "\n",
    "model = tf.keras.Sequential(layers)\n"
   ]
  },
  {
   "cell_type": "code",
   "execution_count": 353,
   "metadata": {},
   "outputs": [],
   "source": [
    "model.compile(\n",
    "  optimizer=tf.keras.optimizers.Adam(learning_rate=0.001),\n",
    "  loss='sparse_categorical_crossentropy',\n",
    "  metrics=['accuracy'])"
   ]
  },
  {
   "cell_type": "code",
   "execution_count": 354,
   "metadata": {},
   "outputs": [],
   "source": [
    "# Training mit Early Stopping\n",
    "early_stop = tf.keras.callbacks.EarlyStopping(\n",
    "    monitor='val_loss',\n",
    "    patience=3,\n",
    "    restore_best_weights=True\n",
    ")"
   ]
  },
  {
   "cell_type": "code",
   "execution_count": 355,
   "metadata": {},
   "outputs": [
    {
     "name": "stdout",
     "output_type": "stream",
     "text": [
      "Epoch 1/2\n",
      "\u001b[1m422/422\u001b[0m \u001b[32m━━━━━━━━━━━━━━━━━━━━\u001b[0m\u001b[37m\u001b[0m \u001b[1m2s\u001b[0m 3ms/step - accuracy: 0.4068 - loss: 9.8644 - val_accuracy: 0.7297 - val_loss: 0.9835\n",
      "Epoch 2/2\n",
      "\u001b[1m422/422\u001b[0m \u001b[32m━━━━━━━━━━━━━━━━━━━━\u001b[0m\u001b[37m\u001b[0m \u001b[1m1s\u001b[0m 2ms/step - accuracy: 0.7501 - loss: 0.8135 - val_accuracy: 0.8090 - val_loss: 0.6708\n",
      "\u001b[1m313/313\u001b[0m \u001b[32m━━━━━━━━━━━━━━━━━━━━\u001b[0m\u001b[37m\u001b[0m \u001b[1m0s\u001b[0m 1ms/step - accuracy: 0.8108 - loss: 0.7108\n",
      "Epoch 1/2\n",
      "\u001b[1m422/422\u001b[0m \u001b[32m━━━━━━━━━━━━━━━━━━━━\u001b[0m\u001b[37m\u001b[0m \u001b[1m1s\u001b[0m 2ms/step - accuracy: 0.8269 - loss: 0.5878 - val_accuracy: 0.8612 - val_loss: 0.5172\n",
      "Epoch 2/2\n",
      "\u001b[1m422/422\u001b[0m \u001b[32m━━━━━━━━━━━━━━━━━━━━\u001b[0m\u001b[37m\u001b[0m \u001b[1m1s\u001b[0m 2ms/step - accuracy: 0.8698 - loss: 0.4559 - val_accuracy: 0.8838 - val_loss: 0.4532\n",
      "\u001b[1m313/313\u001b[0m \u001b[32m━━━━━━━━━━━━━━━━━━━━\u001b[0m\u001b[37m\u001b[0m \u001b[1m0s\u001b[0m 1ms/step - accuracy: 0.8762 - loss: 0.4698\n",
      "Epoch 1/2\n",
      "\u001b[1m422/422\u001b[0m \u001b[32m━━━━━━━━━━━━━━━━━━━━\u001b[0m\u001b[37m\u001b[0m \u001b[1m1s\u001b[0m 3ms/step - accuracy: 0.8901 - loss: 0.3907 - val_accuracy: 0.8847 - val_loss: 0.4106\n",
      "Epoch 2/2\n",
      "\u001b[1m422/422\u001b[0m \u001b[32m━━━━━━━━━━━━━━━━━━━━\u001b[0m\u001b[37m\u001b[0m \u001b[1m1s\u001b[0m 2ms/step - accuracy: 0.9025 - loss: 0.3486 - val_accuracy: 0.8973 - val_loss: 0.3854\n",
      "\u001b[1m313/313\u001b[0m \u001b[32m━━━━━━━━━━━━━━━━━━━━\u001b[0m\u001b[37m\u001b[0m \u001b[1m0s\u001b[0m 1ms/step - accuracy: 0.8972 - loss: 0.3972\n",
      "Epoch 1/2\n",
      "\u001b[1m422/422\u001b[0m \u001b[32m━━━━━━━━━━━━━━━━━━━━\u001b[0m\u001b[37m\u001b[0m \u001b[1m1s\u001b[0m 3ms/step - accuracy: 0.9075 - loss: 0.3315 - val_accuracy: 0.9107 - val_loss: 0.3212\n",
      "Epoch 2/2\n",
      "\u001b[1m422/422\u001b[0m \u001b[32m━━━━━━━━━━━━━━━━━━━━\u001b[0m\u001b[37m\u001b[0m \u001b[1m1s\u001b[0m 2ms/step - accuracy: 0.9130 - loss: 0.3020 - val_accuracy: 0.9107 - val_loss: 0.3249\n",
      "\u001b[1m313/313\u001b[0m \u001b[32m━━━━━━━━━━━━━━━━━━━━\u001b[0m\u001b[37m\u001b[0m \u001b[1m0s\u001b[0m 1ms/step - accuracy: 0.8996 - loss: 0.3757\n",
      "Epoch 1/2\n",
      "\u001b[1m422/422\u001b[0m \u001b[32m━━━━━━━━━━━━━━━━━━━━\u001b[0m\u001b[37m\u001b[0m \u001b[1m1s\u001b[0m 3ms/step - accuracy: 0.9139 - loss: 0.3031 - val_accuracy: 0.9153 - val_loss: 0.3072\n",
      "Epoch 2/2\n",
      "\u001b[1m422/422\u001b[0m \u001b[32m━━━━━━━━━━━━━━━━━━━━\u001b[0m\u001b[37m\u001b[0m \u001b[1m1s\u001b[0m 2ms/step - accuracy: 0.9178 - loss: 0.2864 - val_accuracy: 0.9160 - val_loss: 0.2990\n",
      "\u001b[1m313/313\u001b[0m \u001b[32m━━━━━━━━━━━━━━━━━━━━\u001b[0m\u001b[37m\u001b[0m \u001b[1m0s\u001b[0m 1ms/step - accuracy: 0.9094 - loss: 0.3389\n",
      "Epoch 1/2\n",
      "\u001b[1m422/422\u001b[0m \u001b[32m━━━━━━━━━━━━━━━━━━━━\u001b[0m\u001b[37m\u001b[0m \u001b[1m1s\u001b[0m 3ms/step - accuracy: 0.9217 - loss: 0.2693 - val_accuracy: 0.9225 - val_loss: 0.2746\n",
      "Epoch 2/2\n",
      "\u001b[1m422/422\u001b[0m \u001b[32m━━━━━━━━━━━━━━━━━━━━\u001b[0m\u001b[37m\u001b[0m \u001b[1m1s\u001b[0m 2ms/step - accuracy: 0.9259 - loss: 0.2568 - val_accuracy: 0.9257 - val_loss: 0.2620\n",
      "\u001b[1m313/313\u001b[0m \u001b[32m━━━━━━━━━━━━━━━━━━━━\u001b[0m\u001b[37m\u001b[0m \u001b[1m0s\u001b[0m 1ms/step - accuracy: 0.9195 - loss: 0.3044\n",
      "Epoch 1/2\n",
      "\u001b[1m422/422\u001b[0m \u001b[32m━━━━━━━━━━━━━━━━━━━━\u001b[0m\u001b[37m\u001b[0m \u001b[1m1s\u001b[0m 2ms/step - accuracy: 0.9304 - loss: 0.2468 - val_accuracy: 0.9243 - val_loss: 0.2651\n",
      "Epoch 2/2\n",
      "\u001b[1m422/422\u001b[0m \u001b[32m━━━━━━━━━━━━━━━━━━━━\u001b[0m\u001b[37m\u001b[0m \u001b[1m1s\u001b[0m 2ms/step - accuracy: 0.9311 - loss: 0.2359 - val_accuracy: 0.9315 - val_loss: 0.2446\n",
      "\u001b[1m313/313\u001b[0m \u001b[32m━━━━━━━━━━━━━━━━━━━━\u001b[0m\u001b[37m\u001b[0m \u001b[1m0s\u001b[0m 1ms/step - accuracy: 0.9190 - loss: 0.2975\n",
      "Epoch 1/2\n",
      "\u001b[1m422/422\u001b[0m \u001b[32m━━━━━━━━━━━━━━━━━━━━\u001b[0m\u001b[37m\u001b[0m \u001b[1m1s\u001b[0m 2ms/step - accuracy: 0.9348 - loss: 0.2291 - val_accuracy: 0.9348 - val_loss: 0.2193\n",
      "Epoch 2/2\n",
      "\u001b[1m422/422\u001b[0m \u001b[32m━━━━━━━━━━━━━━━━━━━━\u001b[0m\u001b[37m\u001b[0m \u001b[1m1s\u001b[0m 2ms/step - accuracy: 0.9367 - loss: 0.2177 - val_accuracy: 0.9360 - val_loss: 0.2157\n",
      "\u001b[1m313/313\u001b[0m \u001b[32m━━━━━━━━━━━━━━━━━━━━\u001b[0m\u001b[37m\u001b[0m \u001b[1m0s\u001b[0m 1ms/step - accuracy: 0.9250 - loss: 0.2797\n",
      "Epoch 1/2\n",
      "\u001b[1m422/422\u001b[0m \u001b[32m━━━━━━━━━━━━━━━━━━━━\u001b[0m\u001b[37m\u001b[0m \u001b[1m1s\u001b[0m 3ms/step - accuracy: 0.9375 - loss: 0.2104 - val_accuracy: 0.9455 - val_loss: 0.1981\n",
      "Epoch 2/2\n",
      "\u001b[1m422/422\u001b[0m \u001b[32m━━━━━━━━━━━━━━━━━━━━\u001b[0m\u001b[37m\u001b[0m \u001b[1m1s\u001b[0m 2ms/step - accuracy: 0.9391 - loss: 0.2126 - val_accuracy: 0.9420 - val_loss: 0.1974\n",
      "\u001b[1m313/313\u001b[0m \u001b[32m━━━━━━━━━━━━━━━━━━━━\u001b[0m\u001b[37m\u001b[0m \u001b[1m0s\u001b[0m 1ms/step - accuracy: 0.9251 - loss: 0.2708\n",
      "Epoch 1/2\n",
      "\u001b[1m422/422\u001b[0m \u001b[32m━━━━━━━━━━━━━━━━━━━━\u001b[0m\u001b[37m\u001b[0m \u001b[1m1s\u001b[0m 2ms/step - accuracy: 0.9398 - loss: 0.2040 - val_accuracy: 0.9398 - val_loss: 0.2014\n",
      "Epoch 2/2\n",
      "\u001b[1m422/422\u001b[0m \u001b[32m━━━━━━━━━━━━━━━━━━━━\u001b[0m\u001b[37m\u001b[0m \u001b[1m1s\u001b[0m 2ms/step - accuracy: 0.9392 - loss: 0.1994 - val_accuracy: 0.9453 - val_loss: 0.1973\n",
      "\u001b[1m313/313\u001b[0m \u001b[32m━━━━━━━━━━━━━━━━━━━━\u001b[0m\u001b[37m\u001b[0m \u001b[1m0s\u001b[0m 1ms/step - accuracy: 0.9283 - loss: 0.2624\n"
     ]
    }
   ],
   "source": [
    "if KFOLD:\n",
    "  kfold = KFold(n_splits=KFOLD, shuffle=True)\n",
    "  histories = []\n",
    "  for train_index, test_index in kfold.split(x_train):\n",
    "    x_train_fold, x_val_fold = x_train[train_index], x_train[test_index]\n",
    "    y_train_fold, y_val_fold = y_train[train_index], y_train[test_index]\n",
    "    history = model.fit(x_train_fold, y_train_fold, epochs=EPOCHS, batch_size=BATCH_SIZE, \n",
    "                        validation_data=(x_val_fold, y_val_fold), callbacks=[early_stop])\n",
    "    histories.append(history)\n",
    "    loss, accuracy = model.evaluate(x_test, y_test)\n",
    "else:\n",
    "    history = model.fit(x_train, y_train, epochs=EPOCHS, validation_data=(x_test, y_test))\n",
    "    loss, accuracy = model.evaluate(x_test, y_test)"
   ]
  },
  {
   "cell_type": "code",
   "execution_count": 356,
   "metadata": {},
   "outputs": [],
   "source": [
    "# if KFOLD:    \n",
    "#     kf = KFold(n_splits=KFOLD)\n",
    "#     kf.get_n_splits(x_train)\n",
    "#     print(kf)\n",
    "#     for train_index, test_index in kf.split(x_train):\n",
    "#         print(\"TRAIN:\", train_index, \"TEST:\", test_index)\n",
    "#         x_train, x_test = x_train[train_index], x_train[test_index]\n",
    "#         y_train, y_test = y_train[train_index], y_train[test_index]\n",
    "#         print(x_train, x_test)\n",
    "#         print(y_train, y_test)\n",
    "#         print(\"KFOLD is done\")\n",
    "# else:\n",
    "#     print(\"KFOLD is not set\")"
   ]
  },
  {
   "cell_type": "code",
   "execution_count": 363,
   "metadata": {},
   "outputs": [
    {
     "data": {
      "image/png": "[encoded data removed]",
      "text/plain": [
       "<Figure size 1500x600 with 10 Axes>"
      ]
     },
     "metadata": {},
     "output_type": "display_data"
    }
   ],
   "source": [
    "import matplotlib.pyplot as plt\n",
    "if KFOLD:\n",
    "    \n",
    "\n",
    "    n_folds = len(histories)\n",
    "    if n_folds >= 5:\n",
    "        cols = (n_folds + 1) // 2  \n",
    "        rows = 2\n",
    "        fig, axs = plt.subplots(rows, cols, figsize=(cols * 3, rows * 3))\n",
    "        axs = axs.flatten()\n",
    "    else:\n",
    "        fig, axs = plt.subplots(1, n_folds, figsize=(n_folds * 3, 3))\n",
    "        if n_folds == 1:\n",
    "            axs = [axs]\n",
    "    \n",
    "    for i, hist in enumerate(histories):\n",
    "        ax = axs[i]\n",
    "        ax.plot(hist.history['loss'], marker='o', label='Training Loss')\n",
    "        ax.plot(hist.history['accuracy'], marker='x', label='Training Accuracy')\n",
    "        ax.set_xlabel(f'Epoch (max {EPOCHS})')\n",
    "        ax.set_title(f'Fold {i+1}')\n",
    "    \n",
    "    for j in range(i + 1, len(axs)):\n",
    "        fig.delaxes(axs[j])\n",
    "    \n",
    "    ax.legend()\n",
    "    plt.tight_layout()\n",
    "    plt.show()\n",
    "    \n",
    "else:\n",
    "    plt.figure(figsize=(3,2))\n",
    "    plt.plot(history.history['loss'], marker='o', label='Training Loss')\n",
    "    plt.plot(history.history['accuracy'], marker='x', label='Training Accuracy')\n",
    "    plt.xlabel(f'Epoch (max {EPOCHS})')\n",
    "    plt.title('Training Loss and Accuracy')\n",
    "    plt.legend()\n",
    "    plt.show()\n"
   ]
  },
  {
   "cell_type": "code",
   "execution_count": 364,
   "metadata": {},
   "outputs": [],
   "source": [
    "# import matplotlib.pyplot as plt\n",
    "\n",
    "# # Prepare data for the diagram\n",
    "# metrics = ['Loss (Cost Function)', 'Accuracy']\n",
    "# values = [loss, accuracy]\n",
    "\n",
    "# plt.figure(figsize=(6, 4))\n",
    "# bars = plt.bar(metrics, values, color=['red', 'blue'])\n",
    "# plt.title('Test Loss and Accuracy')\n",
    "\n",
    "# # Annotate each bar with its value\n",
    "# for bar in bars:\n",
    "#     y_val = bar.get_height()\n",
    "#     plt.text(bar.get_x() + bar.get_width() / 2, y_val, f'{y_val:.4f}', ha='center', va='bottom')\n",
    "    \n",
    "# plt.show()"
   ]
  },
  {
   "cell_type": "code",
   "execution_count": 365,
   "metadata": {},
   "outputs": [
    {
     "data": {
      "text/html": [
       "<pre style=\"white-space:pre;overflow-x:auto;line-height:normal;font-family:Menlo,'DejaVu Sans Mono',consolas,'Courier New',monospace\"><span style=\"font-weight: bold\">Model: \"sequential_39\"</span>\n",
       "</pre>\n"
      ],
      "text/plain": [
       "\u001b[1mModel: \"sequential_39\"\u001b[0m\n"
      ]
     },
     "metadata": {},
     "output_type": "display_data"
    },
    {
     "data": {
      "text/html": [
       "<pre style=\"white-space:pre;overflow-x:auto;line-height:normal;font-family:Menlo,'DejaVu Sans Mono',consolas,'Courier New',monospace\">┏━━━━━━━━━━━━━━━━━━━━━━━━━━━━━━━━━┳━━━━━━━━━━━━━━━━━━━━━━━━┳━━━━━━━━━━━━━━━┓\n",
       "┃<span style=\"font-weight: bold\"> Layer (type)                    </span>┃<span style=\"font-weight: bold\"> Output Shape           </span>┃<span style=\"font-weight: bold\">       Param # </span>┃\n",
       "┡━━━━━━━━━━━━━━━━━━━━━━━━━━━━━━━━━╇━━━━━━━━━━━━━━━━━━━━━━━━╇━━━━━━━━━━━━━━━┩\n",
       "│ flatten_29 (<span style=\"color: #0087ff; text-decoration-color: #0087ff\">Flatten</span>)            │ (<span style=\"color: #00d7ff; text-decoration-color: #00d7ff\">None</span>, <span style=\"color: #00af00; text-decoration-color: #00af00\">784</span>)            │             <span style=\"color: #00af00; text-decoration-color: #00af00\">0</span> │\n",
       "├─────────────────────────────────┼────────────────────────┼───────────────┤\n",
       "│ dense_105 (<span style=\"color: #0087ff; text-decoration-color: #0087ff\">Dense</span>)               │ (<span style=\"color: #00d7ff; text-decoration-color: #00d7ff\">None</span>, <span style=\"color: #00af00; text-decoration-color: #00af00\">32</span>)             │        <span style=\"color: #00af00; text-decoration-color: #00af00\">25,120</span> │\n",
       "├─────────────────────────────────┼────────────────────────┼───────────────┤\n",
       "│ dense_106 (<span style=\"color: #0087ff; text-decoration-color: #0087ff\">Dense</span>)               │ (<span style=\"color: #00d7ff; text-decoration-color: #00d7ff\">None</span>, <span style=\"color: #00af00; text-decoration-color: #00af00\">16</span>)             │           <span style=\"color: #00af00; text-decoration-color: #00af00\">528</span> │\n",
       "├─────────────────────────────────┼────────────────────────┼───────────────┤\n",
       "│ dense_107 (<span style=\"color: #0087ff; text-decoration-color: #0087ff\">Dense</span>)               │ (<span style=\"color: #00d7ff; text-decoration-color: #00d7ff\">None</span>, <span style=\"color: #00af00; text-decoration-color: #00af00\">10</span>)             │           <span style=\"color: #00af00; text-decoration-color: #00af00\">170</span> │\n",
       "└─────────────────────────────────┴────────────────────────┴───────────────┘\n",
       "</pre>\n"
      ],
      "text/plain": [
       "┏━━━━━━━━━━━━━━━━━━━━━━━━━━━━━━━━━┳━━━━━━━━━━━━━━━━━━━━━━━━┳━━━━━━━━━━━━━━━┓\n",
       "┃\u001b[1m \u001b[0m\u001b[1mLayer (type)                   \u001b[0m\u001b[1m \u001b[0m┃\u001b[1m \u001b[0m\u001b[1mOutput Shape          \u001b[0m\u001b[1m \u001b[0m┃\u001b[1m \u001b[0m\u001b[1m      Param #\u001b[0m\u001b[1m \u001b[0m┃\n",
       "┡━━━━━━━━━━━━━━━━━━━━━━━━━━━━━━━━━╇━━━━━━━━━━━━━━━━━━━━━━━━╇━━━━━━━━━━━━━━━┩\n",
       "│ flatten_29 (\u001b[38;5;33mFlatten\u001b[0m)            │ (\u001b[38;5;45mNone\u001b[0m, \u001b[38;5;34m784\u001b[0m)            │             \u001b[38;5;34m0\u001b[0m │\n",
       "├─────────────────────────────────┼────────────────────────┼───────────────┤\n",
       "│ dense_105 (\u001b[38;5;33mDense\u001b[0m)               │ (\u001b[38;5;45mNone\u001b[0m, \u001b[38;5;34m32\u001b[0m)             │        \u001b[38;5;34m25,120\u001b[0m │\n",
       "├─────────────────────────────────┼────────────────────────┼───────────────┤\n",
       "│ dense_106 (\u001b[38;5;33mDense\u001b[0m)               │ (\u001b[38;5;45mNone\u001b[0m, \u001b[38;5;34m16\u001b[0m)             │           \u001b[38;5;34m528\u001b[0m │\n",
       "├─────────────────────────────────┼────────────────────────┼───────────────┤\n",
       "│ dense_107 (\u001b[38;5;33mDense\u001b[0m)               │ (\u001b[38;5;45mNone\u001b[0m, \u001b[38;5;34m10\u001b[0m)             │           \u001b[38;5;34m170\u001b[0m │\n",
       "└─────────────────────────────────┴────────────────────────┴───────────────┘\n"
      ]
     },
     "metadata": {},
     "output_type": "display_data"
    },
    {
     "data": {
      "text/html": [
       "<pre style=\"white-space:pre;overflow-x:auto;line-height:normal;font-family:Menlo,'DejaVu Sans Mono',consolas,'Courier New',monospace\"><span style=\"font-weight: bold\"> Total params: </span><span style=\"color: #00af00; text-decoration-color: #00af00\">77,456</span> (302.57 KB)\n",
       "</pre>\n"
      ],
      "text/plain": [
       "\u001b[1m Total params: \u001b[0m\u001b[38;5;34m77,456\u001b[0m (302.57 KB)\n"
      ]
     },
     "metadata": {},
     "output_type": "display_data"
    },
    {
     "data": {
      "text/html": [
       "<pre style=\"white-space:pre;overflow-x:auto;line-height:normal;font-family:Menlo,'DejaVu Sans Mono',consolas,'Courier New',monospace\"><span style=\"font-weight: bold\"> Trainable params: </span><span style=\"color: #00af00; text-decoration-color: #00af00\">25,818</span> (100.85 KB)\n",
       "</pre>\n"
      ],
      "text/plain": [
       "\u001b[1m Trainable params: \u001b[0m\u001b[38;5;34m25,818\u001b[0m (100.85 KB)\n"
      ]
     },
     "metadata": {},
     "output_type": "display_data"
    },
    {
     "data": {
      "text/html": [
       "<pre style=\"white-space:pre;overflow-x:auto;line-height:normal;font-family:Menlo,'DejaVu Sans Mono',consolas,'Courier New',monospace\"><span style=\"font-weight: bold\"> Non-trainable params: </span><span style=\"color: #00af00; text-decoration-color: #00af00\">0</span> (0.00 B)\n",
       "</pre>\n"
      ],
      "text/plain": [
       "\u001b[1m Non-trainable params: \u001b[0m\u001b[38;5;34m0\u001b[0m (0.00 B)\n"
      ]
     },
     "metadata": {},
     "output_type": "display_data"
    },
    {
     "data": {
      "text/html": [
       "<pre style=\"white-space:pre;overflow-x:auto;line-height:normal;font-family:Menlo,'DejaVu Sans Mono',consolas,'Courier New',monospace\"><span style=\"font-weight: bold\"> Optimizer params: </span><span style=\"color: #00af00; text-decoration-color: #00af00\">51,638</span> (201.71 KB)\n",
       "</pre>\n"
      ],
      "text/plain": [
       "\u001b[1m Optimizer params: \u001b[0m\u001b[38;5;34m51,638\u001b[0m (201.71 KB)\n"
      ]
     },
     "metadata": {},
     "output_type": "display_data"
    }
   ],
   "source": [
    "import os\n",
    "os.makedirs(\"Models\", exist_ok=True)\n",
    "\n",
    "model.save(\"Models/saved_modell.keras\")  # Speichert Architektur, Gewichte und Optimizer-Zustand\n",
    "model.save_weights(\"Models/gewichte.weights.h5\")  # Nur Gewichte speichern\n",
    "\n",
    "from tensorflow.keras.models import load_model\n",
    "load_modell = load_model(\"Models/saved_modell.keras\")\n",
    "load_modell.summary()  # Zeigt die Architektur an"
   ]
  },
  {
   "cell_type": "code",
   "execution_count": null,
   "metadata": {},
   "outputs": [],
   "source": []
  }
 ],
 "metadata": {
  "kernelspec": {
   "display_name": "Python 3",
   "language": "python",
   "name": "python3"
  },
  "language_info": {
   "codemirror_mode": {
    "name": "ipython",
    "version": 3
   },
   "file_extension": ".py",
   "mimetype": "text/x-python",
   "name": "python",
   "nbconvert_exporter": "python",
   "pygments_lexer": "ipython3",
   "version": "3.11.9"
  }
 },
 "nbformat": 4,
 "nbformat_minor": 2
}
