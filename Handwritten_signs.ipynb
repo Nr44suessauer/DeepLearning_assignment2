{
 "cells": [
  {
   "cell_type": "code",
   "execution_count": 337,
   "metadata": {},
   "outputs": [],
   "source": [
    "# %pip install tensorflow\n",
    "# %pip install keras\n",
    "\n",
    "# %pip install --upgrade keras\n",
    "# %pip install --upgrade keras-cv\n",
    "# %pip install --upgrade keras-hub\n",
    "# %pip install --upgrade keras\n",
    "# %pip install --upgrade typing_extensions\n",
    "\n",
    "\n",
    "# Config for 1 or 2 Hidden Layers in the Neural Network | True = ON, False = OFF\n",
    "Layer_ONE                       = True\n",
    "Layer_TWO                       = True\n",
    "\n",
    "KFOLD                           = 2\n",
    "EPOCHS                          = 15\n",
    "BATCH_SIZE                      = 50\n",
    "SAVE_MODELS_AND_WEIGHTS         = False # Saves all Models&Weights in a folder from each KFold\n",
    "\n",
    "HiddenLayer_ONE_Neurons         = 32\n",
    "HiddenLayer_TWO_Neurons         = 16\n",
    "\n",
    "Output_Neurons                  = 10   # Assuming MNIST digits: 10 output classes\n",
    "\n",
    "# 0 = sigmoid, 1 = tanh, 2 = relu, 3 = leaky relu, 4 = softmax \n",
    "ChooseActivationFunction_ONE    = 2 \n",
    "ChooseActivationFunction_TWO    = 2 \n",
    " \n",
    "ChooseActivationFunction_OUTPUT = 4 \n",
    "\n",
    "\n",
    "\n",
    "import os\n",
    "import tensorflow as tf\n",
    "import numpy as np\n",
    "import matplotlib.pyplot as plt\n",
    "from sklearn.model_selection import KFold"
   ]
  },
  {
   "cell_type": "code",
   "execution_count": 338,
   "metadata": {},
   "outputs": [],
   "source": [
    "# Lade das MNIST-Datenset und teile es in Trainings- und Testdaten auf\n",
    "(x_train, y_train), (x_test, y_test) = tf.keras.datasets.mnist.load_data()\n",
    "# Prüfe, ob die Datensätze die erwarteten Formen haben\n",
    "assert x_train.shape == (60000, 28, 28) # Input \n",
    "assert x_test.shape == (10000, 28, 28)  # Input\n",
    "assert y_train.shape == (60000,)        # Feature/Label\n",
    "assert y_test.shape == (10000,)         # Feature/Label\n",
    "    \n",
    "    \n",
    "# Erstelle ein tf.data.Dataset aus dem Trainingsdatensatz\n",
    "# Dabei werden die Bilder und Labels als Dictionary abgelegt, um später über die Schlüssel zugreifen zu können\n",
    "ds = tf.data.Dataset.from_tensor_slices({\"image\": x_train, \"label\": y_train})\n"
   ]
  },
  {
   "cell_type": "code",
   "execution_count": 339,
   "metadata": {},
   "outputs": [
    {
     "name": "stdout",
     "output_type": "stream",
     "text": [
      "KFOLD\n"
     ]
    }
   ],
   "source": [
    "def Layer_ONE_ACTIVATION(choice):\n",
    "  if choice == 0:\n",
    "    return \"sigmoid\"\n",
    "  elif choice == 1:\n",
    "    return \"tanh\"\n",
    "  elif choice == 2:\n",
    "    return \"relu\"\n",
    "  elif choice == 3:\n",
    "    return \"\"\n",
    "  elif choice == 4:\n",
    "    return \"softmax\"\n",
    "  else:\n",
    "    return \"sigmoid\"\n",
    "\n",
    "def Layer_TWO_ACTIVATION(choice):\n",
    "  if choice == 0:\n",
    "    return \"sigmoid\"\n",
    "  elif choice == 1:\n",
    "    return \"tanh\"\n",
    "  elif choice == 2:\n",
    "    return \"relu\"\n",
    "  elif choice == 3:\n",
    "    return \"\"\n",
    "  elif choice == 4:\n",
    "    return \"softmax\"\n",
    "  else:\n",
    "    return \"sigmoid\"\n",
    "\n",
    "def OUTPUT_ACTIVATION(choice):\n",
    "  if choice == 0:\n",
    "    return \"sigmoid\"\n",
    "  elif choice == 1:\n",
    "    return \"tanh\"\n",
    "  elif choice == 2:\n",
    "    return \"relu\"\n",
    "  elif choice == 3:\n",
    "    return \"\"\n",
    "  elif choice == 4:\n",
    "    return \"softmax\"\n",
    "  else:\n",
    "    return \"sigmoid\"\n",
    "\n",
    "\n",
    "#------------------------------------------------------------------------------\n",
    "# Model CONFIGURATION\n",
    "#------------------------------------------------------------------------------\n",
    "def create_model():\n",
    "  if Layer_ONE:\n",
    "    activation_one = Layer_ONE_ACTIVATION(ChooseActivationFunction_ONE)\n",
    "\n",
    "  if Layer_TWO:\n",
    "    activation_two = Layer_TWO_ACTIVATION(ChooseActivationFunction_TWO)\n",
    "\n",
    "  if Output_Neurons: \n",
    "    activation_output = OUTPUT_ACTIVATION(ChooseActivationFunction_OUTPUT)\n",
    "\n",
    "\n",
    "  # Build the model using the chosen activations\n",
    "  layers = [\n",
    "    tf.keras.layers.Input(shape=(28, 28, 1)),\n",
    "    tf.keras.layers.Flatten()\n",
    "  ]\n",
    "\n",
    "  if Layer_ONE:\n",
    "    layers.append(tf.keras.layers.Dense(HiddenLayer_ONE_Neurons, activation=activation_one))\n",
    "\n",
    "  if Layer_TWO:\n",
    "    layers.append(tf.keras.layers.Dense(HiddenLayer_TWO_Neurons, activation=activation_two))\n",
    "\n",
    "  layers.append(tf.keras.layers.Dense(Output_Neurons, activation=activation_output))\n",
    "\n",
    "  model = tf.keras.Sequential(layers)\n",
    "\n",
    "  model.compile(\n",
    "  optimizer=tf.keras.optimizers.Adam(learning_rate=0.001),\n",
    "  loss='sparse_categorical_crossentropy',\n",
    "  metrics=['accuracy'])\n",
    "\n",
    "  return model\n",
    "\n",
    "\n",
    "if KFOLD:\n",
    "  print(\"KFOLD\")\n",
    "  pass\n",
    "\n",
    "if not KFOLD:\n",
    "  print(\"NOT KFOLD\")\n",
    "  model = create_model()\n",
    "  \n",
    "  early_stop = tf.keras.callbacks.EarlyStopping(\n",
    "  monitor='val_loss',\n",
    "  patience=3,\n",
    "  restore_best_weights=True\n",
    ")"
   ]
  },
  {
   "cell_type": "code",
   "execution_count": 340,
   "metadata": {},
   "outputs": [
    {
     "name": "stdout",
     "output_type": "stream",
     "text": [
      "Epoch 1/15\n",
      "\u001b[1m600/600\u001b[0m \u001b[32m━━━━━━━━━━━━━━━━━━━━\u001b[0m\u001b[37m\u001b[0m \u001b[1m3s\u001b[0m 3ms/step - accuracy: 0.6748 - loss: 0.9967 - val_accuracy: 0.9153 - val_loss: 0.2928\n",
      "Epoch 2/15\n",
      "\u001b[1m600/600\u001b[0m \u001b[32m━━━━━━━━━━━━━━━━━━━━\u001b[0m\u001b[37m\u001b[0m \u001b[1m2s\u001b[0m 3ms/step - accuracy: 0.9297 - loss: 0.2516 - val_accuracy: 0.9352 - val_loss: 0.2214\n",
      "Epoch 3/15\n",
      "\u001b[1m600/600\u001b[0m \u001b[32m━━━━━━━━━━━━━━━━━━━━\u001b[0m\u001b[37m\u001b[0m \u001b[1m2s\u001b[0m 3ms/step - accuracy: 0.9465 - loss: 0.1870 - val_accuracy: 0.9386 - val_loss: 0.2058\n",
      "Epoch 4/15\n",
      "\u001b[1m600/600\u001b[0m \u001b[32m━━━━━━━━━━━━━━━━━━━━\u001b[0m\u001b[37m\u001b[0m \u001b[1m2s\u001b[0m 3ms/step - accuracy: 0.9530 - loss: 0.1651 - val_accuracy: 0.9458 - val_loss: 0.1845\n",
      "Epoch 5/15\n",
      "\u001b[1m600/600\u001b[0m \u001b[32m━━━━━━━━━━━━━━━━━━━━\u001b[0m\u001b[37m\u001b[0m \u001b[1m2s\u001b[0m 3ms/step - accuracy: 0.9591 - loss: 0.1435 - val_accuracy: 0.9493 - val_loss: 0.1694\n",
      "Epoch 6/15\n",
      "\u001b[1m600/600\u001b[0m \u001b[32m━━━━━━━━━━━━━━━━━━━━\u001b[0m\u001b[37m\u001b[0m \u001b[1m2s\u001b[0m 3ms/step - accuracy: 0.9634 - loss: 0.1265 - val_accuracy: 0.9523 - val_loss: 0.1622\n",
      "Epoch 7/15\n",
      "\u001b[1m600/600\u001b[0m \u001b[32m━━━━━━━━━━━━━━━━━━━━\u001b[0m\u001b[37m\u001b[0m \u001b[1m2s\u001b[0m 3ms/step - accuracy: 0.9676 - loss: 0.1090 - val_accuracy: 0.9520 - val_loss: 0.1619\n",
      "Epoch 8/15\n",
      "\u001b[1m600/600\u001b[0m \u001b[32m━━━━━━━━━━━━━━━━━━━━\u001b[0m\u001b[37m\u001b[0m \u001b[1m2s\u001b[0m 3ms/step - accuracy: 0.9703 - loss: 0.1054 - val_accuracy: 0.9476 - val_loss: 0.1784\n",
      "\u001b[1m938/938\u001b[0m \u001b[32m━━━━━━━━━━━━━━━━━━━━\u001b[0m\u001b[37m\u001b[0m \u001b[1m1s\u001b[0m 1ms/step - accuracy: 0.9490 - loss: 0.1764\n",
      "Epoch 1/15\n",
      "\u001b[1m600/600\u001b[0m \u001b[32m━━━━━━━━━━━━━━━━━━━━\u001b[0m\u001b[37m\u001b[0m \u001b[1m3s\u001b[0m 3ms/step - accuracy: 0.7126 - loss: 0.9424 - val_accuracy: 0.9084 - val_loss: 0.3176\n",
      "Epoch 2/15\n",
      "\u001b[1m600/600\u001b[0m \u001b[32m━━━━━━━━━━━━━━━━━━━━\u001b[0m\u001b[37m\u001b[0m \u001b[1m2s\u001b[0m 3ms/step - accuracy: 0.9211 - loss: 0.2758 - val_accuracy: 0.9280 - val_loss: 0.2484\n",
      "Epoch 3/15\n",
      "\u001b[1m600/600\u001b[0m \u001b[32m━━━━━━━━━━━━━━━━━━━━\u001b[0m\u001b[37m\u001b[0m \u001b[1m2s\u001b[0m 3ms/step - accuracy: 0.9378 - loss: 0.2149 - val_accuracy: 0.9359 - val_loss: 0.2178\n",
      "Epoch 4/15\n",
      "\u001b[1m600/600\u001b[0m \u001b[32m━━━━━━━━━━━━━━━━━━━━\u001b[0m\u001b[37m\u001b[0m \u001b[1m2s\u001b[0m 3ms/step - accuracy: 0.9453 - loss: 0.1887 - val_accuracy: 0.9370 - val_loss: 0.2091\n",
      "Epoch 5/15\n",
      "\u001b[1m600/600\u001b[0m \u001b[32m━━━━━━━━━━━━━━━━━━━━\u001b[0m\u001b[37m\u001b[0m \u001b[1m2s\u001b[0m 3ms/step - accuracy: 0.9511 - loss: 0.1617 - val_accuracy: 0.9423 - val_loss: 0.1938\n",
      "Epoch 6/15\n",
      "\u001b[1m600/600\u001b[0m \u001b[32m━━━━━━━━━━━━━━━━━━━━\u001b[0m\u001b[37m\u001b[0m \u001b[1m2s\u001b[0m 3ms/step - accuracy: 0.9568 - loss: 0.1465 - val_accuracy: 0.9401 - val_loss: 0.1968\n",
      "\u001b[1m938/938\u001b[0m \u001b[32m━━━━━━━━━━━━━━━━━━━━\u001b[0m\u001b[37m\u001b[0m \u001b[1m1s\u001b[0m 1ms/step - accuracy: 0.9380 - loss: 0.1987\n"
     ]
    }
   ],
   "source": [
    "if KFOLD:\n",
    "    kfold = KFold(n_splits=KFOLD, shuffle=True)\n",
    "    fold_accuracies = []\n",
    "    histories = []\n",
    "    i = 0\n",
    "\n",
    "    for train_idx, val_idx in kfold.split(x_train):\n",
    "        model = create_model()                              # new model for this run\n",
    "        early_stop = tf.keras.callbacks.EarlyStopping()     # new early stopping for this run\n",
    "        \n",
    "        x_train_fold, x_val_fold = x_train[train_idx]/255.0, x_train[val_idx]/255.0     # normalise the data\n",
    "        y_train_fold, y_val_fold = y_train[train_idx], y_train[val_idx]                 # get the labels\n",
    "\n",
    "        history = model.fit(\n",
    "            x_train_fold, y_train_fold,                     # traindata for this fold\n",
    "            validation_data=(x_val_fold, y_val_fold),       # validation data for this fold\n",
    "            epochs=EPOCHS,                                  # number of epochs to train\n",
    "            batch_size=BATCH_SIZE,                          # after how many samples to update the weights\n",
    "            callbacks=[early_stop]                          # backpropagation with early stopping\n",
    "        )\n",
    "\n",
    "  \n",
    "        histories.append(history)  # Save the history object for later analysis\n",
    "        \n",
    "        loss, accuracy = model.evaluate(x_val_fold, y_val_fold) # Evaluate the model on the validation data\n",
    "        \n",
    "        fold_accuracies.append(accuracy)\n",
    "\n",
    "        if SAVE_MODELS_AND_WEIGHTS:\n",
    "          os.makedirs(\"Models\", exist_ok=True)\n",
    "          model.save(f\"Models/saved_model_{i}.keras\")\n",
    "          model.save_weights(f\"Models/saved_weights_{i}.weights.h5\")\n",
    "          i += 1\n",
    "        \n",
    "else:\n",
    "  # Falls KFOLD nicht gesetzt ist (z.B. False oder 0), wird das Modell direkt auf den gesamten Trainingsdaten trainiert.\n",
    "  history = model.fit(x_train, y_train, epochs=EPOCHS, validation_data=(x_test, y_test))\n",
    "  \n",
    "  # Nach dem Training erfolgt die Evaluierung des Modells auf den Testdaten.\n",
    "  loss, accuracy = model.evaluate(x_test, y_test)\n",
    "\n",
    "\n",
    "\n",
    "\n"
   ]
  },
  {
   "cell_type": "code",
   "execution_count": 341,
   "metadata": {},
   "outputs": [
    {
     "data": {
      "image/png": "[encoded data removed]",
      "text/plain": [
       "<Figure size 600x300 with 2 Axes>"
      ]
     },
     "metadata": {},
     "output_type": "display_data"
    }
   ],
   "source": [
    "\n",
    "if KFOLD:\n",
    "    n_folds = len(histories)\n",
    "    if n_folds >= 5:\n",
    "        cols = (n_folds + 1) // 2  \n",
    "        rows = 2\n",
    "        fig, axs = plt.subplots(rows, cols, figsize=(cols * 3, rows * 3))\n",
    "        axs = axs.flatten()\n",
    "    else:\n",
    "        fig, axs = plt.subplots(1, n_folds, figsize=(n_folds * 3, 3))\n",
    "        if n_folds == 1:\n",
    "            axs = [axs]\n",
    "    \n",
    "    for i, hist in enumerate(histories):\n",
    "        ax = axs[i]\n",
    "        ax.plot(hist.history['loss'], marker='o', label='Training Loss')\n",
    "        ax.plot(hist.history['accuracy'], marker='x', label='Training Accuracy')\n",
    "        ax.set_xlabel(f'Epoch (max {EPOCHS})')\n",
    "        ax.set_title(f'Fold {i+1}')\n",
    "    \n",
    "    for j in range(i + 1, len(axs)):\n",
    "        fig.delaxes(axs[j])\n",
    "    \n",
    "    ax.legend()\n",
    "    plt.tight_layout()\n",
    "    plt.show()\n",
    "    \n",
    "else:\n",
    "    plt.figure(figsize=(3,2))\n",
    "    plt.plot(history.history['loss'], marker='o', label='Training Loss')\n",
    "    plt.plot(history.history['accuracy'], marker='x', label='Training Accuracy')\n",
    "    plt.xlabel(f'Epoch (max {EPOCHS})')\n",
    "    plt.title('Training Loss and Accuracy')\n",
    "    plt.legend()\n",
    "    plt.show()"
   ]
  },
  {
   "cell_type": "code",
   "execution_count": null,
   "metadata": {},
   "outputs": [
    {
     "name": "stdout",
     "output_type": "stream",
     "text": [
      "Image 1 loaded from: https://github.com/Nr44suessauer/nr44suessauer.github.io/blob/main/assets/img/DeepLearningTest/2.png?raw=true\n"
     ]
    },
    {
     "data": {
      "image/jpeg": "[encoded data removed]",
      "image/png": "[encoded data removed]",
      "text/plain": [
       "<PIL.PngImagePlugin.PngImageFile image mode=RGB size=28x28>"
      ]
     },
     "metadata": {},
     "output_type": "display_data"
    },
    {
     "name": "stdout",
     "output_type": "stream",
     "text": [
      "\u001b[1m1/1\u001b[0m \u001b[32m━━━━━━━━━━━━━━━━━━━━\u001b[0m\u001b[37m\u001b[0m \u001b[1m0s\u001b[0m 30ms/step\n",
      "Predicted class: 3\n",
      "Probabilities: [[6.9530960e-04 6.9834263e-04 1.2191618e-01 8.4430081e-01 5.6021676e-05\n",
      "  2.8439292e-03 2.3972645e-02 5.7445661e-05 5.4427506e-03 1.6562662e-05]]\n",
      "Image 2 loaded from: https://github.com/Nr44suessauer/nr44suessauer.github.io/blob/main/assets/img/DeepLearningTest/1.png?raw=true\n"
     ]
    },
    {
     "data": {
      "image/jpeg": "[encoded data removed]",
      "image/png": "[encoded data removed]",
      "text/plain": [
       "<PIL.PngImagePlugin.PngImageFile image mode=RGB size=28x28>"
      ]
     },
     "metadata": {},
     "output_type": "display_data"
    },
    {
     "name": "stdout",
     "output_type": "stream",
     "text": [
      "\u001b[1m1/1\u001b[0m \u001b[32m━━━━━━━━━━━━━━━━━━━━\u001b[0m\u001b[37m\u001b[0m \u001b[1m0s\u001b[0m 34ms/step\n",
      "Predicted class: 1\n",
      "Probabilities: [[0.0015077  0.30073425 0.0334831  0.07224632 0.00948716 0.06739334\n",
      "  0.0017196  0.16301656 0.15206313 0.19834876]]\n",
      "Image 3 loaded from: https://github.com/Nr44suessauer/nr44suessauer.github.io/blob/main/assets/img/DeepLearningTest/3.png?raw=true\n"
     ]
    },
    {
     "data": {
      "image/jpeg": "[encoded data removed]",
      "image/png": "[encoded data removed]",
      "text/plain": [
       "<PIL.PngImagePlugin.PngImageFile image mode=RGB size=28x28>"
      ]
     },
     "metadata": {},
     "output_type": "display_data"
    },
    {
     "name": "stdout",
     "output_type": "stream",
     "text": [
      "\u001b[1m1/1\u001b[0m \u001b[32m━━━━━━━━━━━━━━━━━━━━\u001b[0m\u001b[37m\u001b[0m \u001b[1m0s\u001b[0m 33ms/step\n",
      "Predicted class: 3\n",
      "Probabilities: [[9.2476618e-04 1.5706556e-01 3.2095216e-02 7.4961632e-01 5.2630867e-06\n",
      "  3.5909005e-02 1.5396891e-02 3.1567564e-05 8.8725844e-03 8.2787308e-05]]\n",
      "Image 4 loaded from: https://github.com/Nr44suessauer/nr44suessauer.github.io/blob/main/assets/img/DeepLearningTest/4.png?raw=true\n"
     ]
    },
    {
     "data": {
      "image/jpeg": "[encoded data removed]",
      "image/png": "[encoded data removed]",
      "text/plain": [
       "<PIL.PngImagePlugin.PngImageFile image mode=RGB size=28x28>"
      ]
     },
     "metadata": {},
     "output_type": "display_data"
    },
    {
     "name": "stdout",
     "output_type": "stream",
     "text": [
      "\u001b[1m1/1\u001b[0m \u001b[32m━━━━━━━━━━━━━━━━━━━━\u001b[0m\u001b[37m\u001b[0m \u001b[1m0s\u001b[0m 31ms/step\n",
      "Predicted class: 5\n",
      "Probabilities: [[4.2759548e-03 5.4034505e-02 4.9680311e-02 2.0567471e-01 1.9732256e-04\n",
      "  4.9468213e-01 3.7861995e-02 2.8474641e-04 1.5201123e-01 1.2970601e-03]]\n"
     ]
    }
   ],
   "source": [
    "import requests\n",
    "from io import BytesIO\n",
    "from PIL import Image\n",
    "from IPython.display import display\n",
    "\n",
    "\n",
    "\n",
    "urls = [\n",
    "    \"https://github.com/Nr44suessauer/nr44suessauer.github.io/blob/main/assets/img/DeepLearningTest/2.png?raw=true\",\n",
    "    \"https://github.com/Nr44suessauer/nr44suessauer.github.io/blob/main/assets/img/DeepLearningTest/1.png?raw=true\",\n",
    "    \"https://github.com/Nr44suessauer/nr44suessauer.github.io/blob/main/assets/img/DeepLearningTest/3.png?raw=true\",\n",
    "    \"https://github.com/Nr44suessauer/nr44suessauer.github.io/blob/main/assets/img/DeepLearningTest/4.png?raw=true\"\n",
    "]\n",
    "\n",
    "# Takes last model from KFold or the model trained on the full dataset\n",
    "for idx, url in enumerate(urls):\n",
    "    try:\n",
    "        response = requests.get(url)\n",
    "        if response.status_code == 200:\n",
    "            img = Image.open(BytesIO(response.content))\n",
    "            print(f\"Image {idx+1} loaded from: {url}\")\n",
    "            display(img)\n",
    "            \n",
    "            # Convert to grayscale and resize to 28x28\n",
    "            img_proc = img.convert(\"L\").resize((28, 28))\n",
    "            \n",
    "            # Prepare the image for the model: normalize and add dimensions\n",
    "            img_arr = 1.0 - np.array(img_proc) / 255.0\n",
    "            img_arr = img_arr.reshape(1, 28, 28, 1)\n",
    "            \n",
    "            # Get prediction from the model\n",
    "            probs = model.predict(img_arr)\n",
    "            pred_class = np.argmax(probs)\n",
    "            \n",
    "            print(f\"Predicted class: {pred_class}\")\n",
    "            print(f\"Probabilities: {probs}\")\n",
    "        else:\n",
    "            print(f\"Failed to load image {idx+1} from: {url} with status code {response.status_code}\")\n",
    "    except Exception as e:\n",
    "        print(f\"Error processing image {idx+1} from {url}: {e}\")\n"
   ]
  }
 ],
 "metadata": {
  "kernelspec": {
   "display_name": "Python 3",
   "language": "python",
   "name": "python3"
  },
  "language_info": {
   "codemirror_mode": {
    "name": "ipython",
    "version": 3
   },
   "file_extension": ".py",
   "mimetype": "text/x-python",
   "name": "python",
   "nbconvert_exporter": "python",
   "pygments_lexer": "ipython3",
   "version": "3.11.9"
  }
 },
 "nbformat": 4,
 "nbformat_minor": 2
}
