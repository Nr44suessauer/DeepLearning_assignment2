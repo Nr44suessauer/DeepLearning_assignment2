{
 "cells": [
  {
   "cell_type": "code",
   "execution_count": 556,
   "metadata": {},
   "outputs": [],
   "source": [
    "# %pip install tensorflow\n",
    "# %pip install keras\n",
    "\n",
    "# %pip install --upgrade keras\n",
    "# %pip install --upgrade keras-cv\n",
    "# %pip install --upgrade keras-hub\n",
    "# %pip install --upgrade keras\n",
    "# %pip install --upgrade typing_extensions\n",
    "\n",
    "\n",
    "# Config for 1 or 2 Hidden Layers in the Neural Network | True = ON, False = OFF\n",
    "Layer_ONE                       = True\n",
    "Layer_TWO                       = True\n",
    "\n",
    "KFOLD                           = 3     # N-Fold Cross Validation | False can deactivate KFold -> single training\n",
    "EPOCHS                          = 3     # rounds of training\n",
    "LEARNING_RATE                   = 0.001 # 0.001 is the default value for Adam Optimizer\n",
    "BATCH_SIZE                      = 60    # after n samples, weights will be updated\n",
    "SAVE_MODELS_AND_WEIGHTS         = False # Saves all Models&Weights in a folder from each KFold\n",
    "\n",
    "HiddenLayer_ONE_Neurons         = 32\n",
    "HiddenLayer_TWO_Neurons         = 16\n",
    "\n",
    "Output_Neurons                  = 10   # Assuming MNIST digits: 10 output classes\n",
    "\n",
    "# 0 = sigmoid, 1 = tanh, 2 = relu, 3 = leaky relu, 4 = softmax \n",
    "ChooseActivationFunction_ONE    = 1 \n",
    "ChooseActivationFunction_TWO    = 1 \n",
    " \n",
    "ChooseActivationFunction_OUTPUT = 4 \n",
    "\n",
    "\n",
    "\n",
    "import os\n",
    "import tensorflow as tf\n",
    "import numpy as np\n",
    "import matplotlib.pyplot as plt\n",
    "from sklearn.model_selection import KFold\n",
    "import time  "
   ]
  },
  {
   "cell_type": "code",
   "execution_count": 557,
   "metadata": {},
   "outputs": [],
   "source": [
    "if KFOLD:\n",
    "    (x_train, y_train), _ = tf.keras.datasets.mnist.load_data()\n",
    "else:\n",
    "    # Load MNIST dataset and split into training and test data.\n",
    "    (x_train, y_train), (x_test, y_test) = tf.keras.datasets.mnist.load_data()\n",
    "    # Verify that the datasets have the expected shapes.\n",
    "    assert x_train.shape == (60000, 28, 28)  # Input\n",
    "    assert x_test.shape  == (10000, 28, 28)   # Input\n",
    "    assert y_train.shape == (60000,)         # Label\n",
    "    assert y_test.shape  == (10000,)          # Label\n",
    "\n",
    "# Create a tf.data.Dataset from the training data.\n",
    "# The images and labels are stored in a dictionary to allow access by keys.\n",
    "ds = tf.data.Dataset.from_tensor_slices({\"image\": x_train, \"label\": y_train})\n",
    "\n"
   ]
  },
  {
   "cell_type": "code",
   "execution_count": 558,
   "metadata": {},
   "outputs": [
    {
     "name": "stdout",
     "output_type": "stream",
     "text": [
      "KFOLD\n"
     ]
    }
   ],
   "source": [
    "# For defining the activation functions in the model\n",
    "# Prepared for Max 2 Hidden Layers and 1 Output Layer\n",
    "\n",
    "def Layer_ONE_ACTIVATION(choice):\n",
    "  if choice == 0:\n",
    "    return \"sigmoid\"\n",
    "  elif choice == 1:\n",
    "    return \"tanh\"\n",
    "  elif choice == 2:\n",
    "    return \"relu\"\n",
    "  elif choice == 3:\n",
    "    return \"\"\n",
    "  elif choice == 4:\n",
    "    return \"softmax\"\n",
    "  else:\n",
    "    return \"sigmoid\"\n",
    "\n",
    "def Layer_TWO_ACTIVATION(choice):\n",
    "  if choice == 0:\n",
    "    return \"sigmoid\"\n",
    "  elif choice == 1:\n",
    "    return \"tanh\"\n",
    "  elif choice == 2:\n",
    "    return \"relu\"\n",
    "  elif choice == 3:\n",
    "    return \"\"\n",
    "  elif choice == 4:\n",
    "    return \"softmax\"\n",
    "  else:\n",
    "    return \"sigmoid\"\n",
    "\n",
    "def OUTPUT_ACTIVATION(choice):\n",
    "  if choice == 0:\n",
    "    return \"sigmoid\"\n",
    "  elif choice == 1:\n",
    "    return \"tanh\"\n",
    "  elif choice == 2:\n",
    "    return \"relu\"\n",
    "  elif choice == 3:\n",
    "    return \"\"\n",
    "  elif choice == 4:\n",
    "    return \"softmax\"\n",
    "  else:\n",
    "    return \"sigmoid\"\n",
    "\n",
    "\n",
    "#------------------------------------------------------------------------------\n",
    "# Model CONFIGURATION\n",
    "#------------------------------------------------------------------------------\n",
    "def create_model():\n",
    "  if Layer_ONE:\n",
    "    activation_one = Layer_ONE_ACTIVATION(ChooseActivationFunction_ONE)\n",
    "\n",
    "  if Layer_TWO:\n",
    "    activation_two = Layer_TWO_ACTIVATION(ChooseActivationFunction_TWO)\n",
    "\n",
    "  if Output_Neurons: \n",
    "    activation_output = OUTPUT_ACTIVATION(ChooseActivationFunction_OUTPUT)\n",
    "\n",
    "\n",
    "  # Build the model using the chosen activations\n",
    "  layers = [\n",
    "    tf.keras.layers.Input(shape=(28, 28, 1)),\n",
    "    tf.keras.layers.Flatten()\n",
    "  ]\n",
    "\n",
    "  if Layer_ONE:\n",
    "    layers.append(tf.keras.layers.Dense(HiddenLayer_ONE_Neurons, activation=activation_one))\n",
    "\n",
    "  if Layer_TWO:\n",
    "    layers.append(tf.keras.layers.Dense(HiddenLayer_TWO_Neurons, activation=activation_two))\n",
    "\n",
    "  layers.append(tf.keras.layers.Dense(Output_Neurons, activation=activation_output))\n",
    "\n",
    "  model = tf.keras.Sequential(layers)\n",
    "\n",
    "  model.compile(\n",
    "  optimizer=tf.keras.optimizers.Adam(LEARNING_RATE),\n",
    "  loss='sparse_categorical_crossentropy',\n",
    "  metrics=['accuracy'])\n",
    "\n",
    "  return model\n",
    "# end create_model()\n",
    "\n",
    "# K-Fold loops create a model for each fold and train it.\n",
    "if KFOLD:\n",
    "  print(\"KFOLD\")\n",
    "  pass\n",
    "\n",
    "# Single Version needs only one model and callback\n",
    "if not KFOLD:\n",
    "  print(\"NOT KFOLD\")\n",
    "  model = create_model()\n",
    "  \n",
    "  early_stop = tf.keras.callbacks.EarlyStopping(\n",
    "      monitor='val_loss',        # Metric to be monitored.\n",
    "      patience=2,                # Number of epochs to wait for improvement before stopping.\n",
    "      restore_best_weights=True  # Restore model weights from the epoch with the best monitored metric.\n",
    "  )\n",
    "\n",
    "  "
   ]
  },
  {
   "cell_type": "code",
   "execution_count": 559,
   "metadata": {},
   "outputs": [
    {
     "name": "stdout",
     "output_type": "stream",
     "text": [
      "Epoch 1/3\n",
      "\u001b[1m667/667\u001b[0m \u001b[32m━━━━━━━━━━━━━━━━━━━━\u001b[0m\u001b[37m\u001b[0m \u001b[1m3s\u001b[0m 3ms/step - accuracy: 0.7674 - loss: 0.9151 - val_accuracy: 0.9177 - val_loss: 0.3052\n",
      "Epoch 2/3\n",
      "\u001b[1m667/667\u001b[0m \u001b[32m━━━━━━━━━━━━━━━━━━━━\u001b[0m\u001b[37m\u001b[0m \u001b[1m2s\u001b[0m 3ms/step - accuracy: 0.9282 - loss: 0.2680 - val_accuracy: 0.9358 - val_loss: 0.2232\n",
      "Epoch 3/3\n",
      "\u001b[1m667/667\u001b[0m \u001b[32m━━━━━━━━━━━━━━━━━━━━\u001b[0m\u001b[37m\u001b[0m \u001b[1m2s\u001b[0m 3ms/step - accuracy: 0.9451 - loss: 0.1926 - val_accuracy: 0.9448 - val_loss: 0.1894\n",
      "Fold training time: 6.70 seconds\n",
      "\u001b[1m625/625\u001b[0m \u001b[32m━━━━━━━━━━━━━━━━━━━━\u001b[0m\u001b[37m\u001b[0m \u001b[1m1s\u001b[0m 1ms/step - accuracy: 0.9454 - loss: 0.1872\n",
      "Epoch 1/3\n",
      "\u001b[1m667/667\u001b[0m \u001b[32m━━━━━━━━━━━━━━━━━━━━\u001b[0m\u001b[37m\u001b[0m \u001b[1m3s\u001b[0m 3ms/step - accuracy: 0.7673 - loss: 0.9113 - val_accuracy: 0.9160 - val_loss: 0.3083\n",
      "Epoch 2/3\n",
      "\u001b[1m667/667\u001b[0m \u001b[32m━━━━━━━━━━━━━━━━━━━━\u001b[0m\u001b[37m\u001b[0m \u001b[1m2s\u001b[0m 3ms/step - accuracy: 0.9239 - loss: 0.2768 - val_accuracy: 0.9312 - val_loss: 0.2369\n",
      "Epoch 3/3\n",
      "\u001b[1m667/667\u001b[0m \u001b[32m━━━━━━━━━━━━━━━━━━━━\u001b[0m\u001b[37m\u001b[0m \u001b[1m2s\u001b[0m 3ms/step - accuracy: 0.9422 - loss: 0.2047 - val_accuracy: 0.9409 - val_loss: 0.2055\n",
      "Fold training time: 6.59 seconds\n",
      "\u001b[1m625/625\u001b[0m \u001b[32m━━━━━━━━━━━━━━━━━━━━\u001b[0m\u001b[37m\u001b[0m \u001b[1m1s\u001b[0m 1ms/step - accuracy: 0.9405 - loss: 0.2065\n",
      "Epoch 1/3\n",
      "\u001b[1m667/667\u001b[0m \u001b[32m━━━━━━━━━━━━━━━━━━━━\u001b[0m\u001b[37m\u001b[0m \u001b[1m3s\u001b[0m 3ms/step - accuracy: 0.7680 - loss: 0.9165 - val_accuracy: 0.9162 - val_loss: 0.3024\n",
      "Epoch 2/3\n",
      "\u001b[1m667/667\u001b[0m \u001b[32m━━━━━━━━━━━━━━━━━━━━\u001b[0m\u001b[37m\u001b[0m \u001b[1m2s\u001b[0m 3ms/step - accuracy: 0.9280 - loss: 0.2656 - val_accuracy: 0.9375 - val_loss: 0.2219\n",
      "Epoch 3/3\n",
      "\u001b[1m667/667\u001b[0m \u001b[32m━━━━━━━━━━━━━━━━━━━━\u001b[0m\u001b[37m\u001b[0m \u001b[1m2s\u001b[0m 3ms/step - accuracy: 0.9480 - loss: 0.1853 - val_accuracy: 0.9441 - val_loss: 0.1950\n",
      "Fold training time: 6.60 seconds\n",
      "\u001b[1m625/625\u001b[0m \u001b[32m━━━━━━━━━━━━━━━━━━━━\u001b[0m\u001b[37m\u001b[0m \u001b[1m1s\u001b[0m 1ms/step - accuracy: 0.9449 - loss: 0.1952\n"
     ]
    }
   ],
   "source": [
    "\n",
    "\n",
    "if KFOLD:\n",
    "  kfold = KFold(n_splits=KFOLD, shuffle=True)\n",
    "  fold_accuracies = []      # store accuracies for each fold\n",
    "  histories = []            # list of History objects | for Printing\n",
    "  fold_training_times = []  # store training time for each fold\n",
    "  i = 0                     # counter for saving models and weights\n",
    "\n",
    "  for train_idx, val_idx in kfold.split(x_train):\n",
    "    model = create_model()                              # new model for this run\n",
    "    early_stop = tf.keras.callbacks.EarlyStopping()     # new early stopping for this run\n",
    "\n",
    "    x_train_fold, x_val_fold = x_train[train_idx]/255.0, x_train[val_idx]/255.0   # normalize the data\n",
    "    y_train_fold, y_val_fold = y_train[train_idx], y_train[val_idx]               # get the labels\n",
    "\n",
    "    start_time = time.time()\n",
    "    history = model.fit(\n",
    "      x_train_fold, y_train_fold,                     # training data for this fold\n",
    "      validation_data=(x_val_fold, y_val_fold),       # validation data for this fold\n",
    "      epochs=EPOCHS,                                  # number of epochs to train\n",
    "      batch_size=BATCH_SIZE,                          # after how many samples to update the weights\n",
    "      callbacks=[early_stop]                          # backpropagation with early stopping\n",
    "    )\n",
    "\n",
    "    # Measure the time taken for training this fold + save in fold_training_times[]\n",
    "    end_time = time.time()\n",
    "    elapsed_time = end_time - start_time\n",
    "    fold_training_times.append(elapsed_time)\n",
    "    print(f\"Fold training time: {elapsed_time:.2f} seconds\")\n",
    "  \n",
    "    histories.append(history)                               # Save the history object for later analysis\n",
    "    loss, accuracy = model.evaluate(x_val_fold, y_val_fold) # Evaluate model on validation data\n",
    "    fold_accuracies.append(accuracy)                        # Save the accuracy for this fold\n",
    "\n",
    "    if SAVE_MODELS_AND_WEIGHTS:                             # was for testing with single models after training\n",
    "      os.makedirs(\"Models\", exist_ok=True)\n",
    "      model.save(f\"Models/saved_model_{i}.keras\")\n",
    "      model.save_weights(f\"Models/saved_weights_{i}.weights.h5\")\n",
    "      i += 1\n",
    "  \n",
    "else:\n",
    "  start_time = time.time() \n",
    "  history = model.fit(x_train, y_train, epochs=EPOCHS, validation_data=(x_test, y_test))\n",
    "  end_time = time.time()\n",
    "  elapsed_time = end_time - start_time\n",
    "  print(f\"Training time: {elapsed_time:.2f} seconds\")\n",
    "  loss, accuracy = model.evaluate(x_test, y_test)\n",
    "\n",
    "  if SAVE_MODELS_AND_WEIGHTS:                             # was for testing with single models after training\n",
    "    os.makedirs(\"Models\", exist_ok=True)\n",
    "    model.save(f\"Models/saved_model_.keras\")\n",
    "    model.save_weights(f\"Models/saved_weights_{i}.weights.h5\")\n"
   ]
  },
  {
   "cell_type": "code",
   "execution_count": 560,
   "metadata": {},
   "outputs": [
    {
     "data": {
      "image/png": "[encoded data removed]",
      "text/plain": [
       "<Figure size 900x300 with 3 Axes>"
      ]
     },
     "metadata": {},
     "output_type": "display_data"
    }
   ],
   "source": [
    "if KFOLD:\n",
    "    n_folds = len(histories)\n",
    "    if n_folds >= 5:\n",
    "        cols = (n_folds + 1) // 2  \n",
    "        rows = 2\n",
    "        fig, axs = plt.subplots(rows, cols, figsize=(cols * 3, rows * 3))\n",
    "        axs = axs.flatten()\n",
    "    else:\n",
    "        fig, axs = plt.subplots(1, n_folds, figsize=(n_folds * 3, 3))\n",
    "        if n_folds == 1:\n",
    "            axs = [axs]\n",
    "\n",
    "    \n",
    "    for i, hist in enumerate(histories):\n",
    "        ax = axs[i]\n",
    "        ax.plot(hist.history['loss'], marker='o', label='Training Loss')\n",
    "        ax.plot(hist.history['accuracy'], marker='x', label='Training Accuracy')\n",
    "        ax.set_xlabel(f'Epoch (max {EPOCHS})')\n",
    "        ax.set_title(f'Fold {i+1} ({fold_training_times[i]:.2f}s)')     # Display training time for each fold\n",
    "        ax.text(0.5, 0.8, f\"accuracy: {fold_accuracies[i]:.4f}\", transform=ax.transAxes, ha='center', fontsize=9)\n",
    "        \n",
    "   \n",
    "    \n",
    "    plt.tight_layout()\n",
    "    plt.show()\n",
    "    \n",
    "else:\n",
    "    plt.figure(figsize=(3,2))\n",
    "    plt.plot(history.history['loss'], marker='o', label='Training Loss')\n",
    "    plt.plot(history.history['accuracy'], marker='x', label='Training Accuracy')\n",
    "    plt.xlabel(f'Epoch (max {EPOCHS})')\n",
    "    plt.title(f'Training (time: {elapsed_time:.2f}s)')\n",
    "    plt.legend()\n",
    "    plt.show()\n"
   ]
  },
  {
   "cell_type": "code",
   "execution_count": 561,
   "metadata": {},
   "outputs": [
    {
     "name": "stdout",
     "output_type": "stream",
     "text": [
      "Validation accuracies for each fold:\n",
      "Fold 1: 0.9448\n",
      "Fold 2: 0.9409\n",
      "Fold 3: 0.9441\n",
      "Mean validation accuracy: 0.9433\n"
     ]
    }
   ],
   "source": [
    "print(\"Validation accuracies for each fold:\")\n",
    "for idx, acc in enumerate(fold_accuracies, 1):\n",
    "    print(f\"Fold {idx}: {acc:.4f}\")\n",
    "\n",
    "mean_acc = np.mean(fold_accuracies)\n",
    "print(f\"Mean validation accuracy: {mean_acc:.4f}\")"
   ]
  },
  {
   "cell_type": "code",
   "execution_count": 562,
   "metadata": {},
   "outputs": [
    {
     "name": "stdout",
     "output_type": "stream",
     "text": [
      "Image 1 loaded from: https://github.com/Nr44suessauer/nr44suessauer.github.io/blob/main/assets/img/DeepLearningTest/2.png?raw=true\n"
     ]
    },
    {
     "data": {
      "image/jpeg": "[encoded data removed]",
      "image/png": "[encoded data removed]",
      "text/plain": [
       "<PIL.PngImagePlugin.PngImageFile image mode=RGB size=28x28>"
      ]
     },
     "metadata": {},
     "output_type": "display_data"
    },
    {
     "name": "stdout",
     "output_type": "stream",
     "text": [
      "\u001b[1m1/1\u001b[0m \u001b[32m━━━━━━━━━━━━━━━━━━━━\u001b[0m\u001b[37m\u001b[0m \u001b[1m0s\u001b[0m 60ms/step\n",
      "Predicted class: 3\n",
      "Probabilities: [[2.5074312e-03 6.4793970e-03 4.3142661e-01 5.4161090e-01 8.9117407e-04\n",
      "  3.5826894e-03 9.5141502e-03 2.4912150e-03 4.6190355e-04 1.0345976e-03]]\n",
      "Image 2 loaded from: https://github.com/Nr44suessauer/nr44suessauer.github.io/blob/main/assets/img/DeepLearningTest/1.png?raw=true\n"
     ]
    },
    {
     "data": {
      "image/jpeg": "[encoded data removed]",
      "image/png": "[encoded data removed]",
      "text/plain": [
       "<PIL.PngImagePlugin.PngImageFile image mode=RGB size=28x28>"
      ]
     },
     "metadata": {},
     "output_type": "display_data"
    },
    {
     "name": "stdout",
     "output_type": "stream",
     "text": [
      "\u001b[1m1/1\u001b[0m \u001b[32m━━━━━━━━━━━━━━━━━━━━\u001b[0m\u001b[37m\u001b[0m \u001b[1m0s\u001b[0m 33ms/step\n",
      "Predicted class: 1\n",
      "Probabilities: [[0.00095705 0.28085595 0.04467547 0.02492845 0.00194857 0.05809154\n",
      "  0.00144117 0.26669052 0.05105259 0.26935878]]\n",
      "Image 3 loaded from: https://github.com/Nr44suessauer/nr44suessauer.github.io/blob/main/assets/img/DeepLearningTest/3.png?raw=true\n"
     ]
    },
    {
     "data": {
      "image/jpeg": "[encoded data removed]",
      "image/png": "[encoded data removed]",
      "text/plain": [
       "<PIL.PngImagePlugin.PngImageFile image mode=RGB size=28x28>"
      ]
     },
     "metadata": {},
     "output_type": "display_data"
    },
    {
     "name": "stdout",
     "output_type": "stream",
     "text": [
      "\u001b[1m1/1\u001b[0m \u001b[32m━━━━━━━━━━━━━━━━━━━━\u001b[0m\u001b[37m\u001b[0m \u001b[1m0s\u001b[0m 31ms/step\n",
      "Predicted class: 3\n",
      "Probabilities: [[0.00051852 0.15427545 0.10109915 0.47584572 0.00067912 0.10066659\n",
      "  0.15068889 0.00260664 0.00744961 0.00617036]]\n",
      "Image 4 loaded from: https://github.com/Nr44suessauer/nr44suessauer.github.io/blob/main/assets/img/DeepLearningTest/4.png?raw=true\n"
     ]
    },
    {
     "data": {
      "image/jpeg": "[encoded data removed]",
      "image/png": "[encoded data removed]",
      "text/plain": [
       "<PIL.PngImagePlugin.PngImageFile image mode=RGB size=28x28>"
      ]
     },
     "metadata": {},
     "output_type": "display_data"
    },
    {
     "name": "stdout",
     "output_type": "stream",
     "text": [
      "\u001b[1m1/1\u001b[0m \u001b[32m━━━━━━━━━━━━━━━━━━━━\u001b[0m\u001b[37m\u001b[0m \u001b[1m0s\u001b[0m 32ms/step\n",
      "Predicted class: 5\n",
      "Probabilities: [[0.00173392 0.02641959 0.14538975 0.00711191 0.00654927 0.54135776\n",
      "  0.24986525 0.00222846 0.01839205 0.00095204]]\n"
     ]
    }
   ],
   "source": [
    "import requests\n",
    "from io import BytesIO\n",
    "from PIL import Image\n",
    "from IPython.display import display\n",
    "\n",
    "\n",
    "\n",
    "urls = [\n",
    "    \"https://github.com/Nr44suessauer/nr44suessauer.github.io/blob/main/assets/img/DeepLearningTest/2.png?raw=true\",\n",
    "    \"https://github.com/Nr44suessauer/nr44suessauer.github.io/blob/main/assets/img/DeepLearningTest/1.png?raw=true\",\n",
    "    \"https://github.com/Nr44suessauer/nr44suessauer.github.io/blob/main/assets/img/DeepLearningTest/3.png?raw=true\",\n",
    "    \"https://github.com/Nr44suessauer/nr44suessauer.github.io/blob/main/assets/img/DeepLearningTest/4.png?raw=true\"\n",
    "]\n",
    "\n",
    "# Takes last model from KFold or the model trained on the full dataset\n",
    "for idx, url in enumerate(urls):\n",
    "    try:\n",
    "        response = requests.get(url)\n",
    "        if response.status_code == 200:\n",
    "            img = Image.open(BytesIO(response.content))\n",
    "            print(f\"Image {idx+1} loaded from: {url}\")\n",
    "            display(img)\n",
    "            \n",
    "            # Convert to grayscale and resize to 28x28\n",
    "            img_proc = img.convert(\"L\").resize((28, 28))\n",
    "            \n",
    "            # Prepare the image for the model: normalize and add dimensions\n",
    "            img_arr = 1.0 - np.array(img_proc) / 255.0\n",
    "            img_arr = img_arr.reshape(1, 28, 28, 1)\n",
    "            \n",
    "            # Get prediction from the model\n",
    "            probs = model.predict(img_arr)\n",
    "            pred_class = np.argmax(probs)\n",
    "            \n",
    "            print(f\"Predicted class: {pred_class}\")\n",
    "            print(f\"Probabilities: {probs}\")\n",
    "        else:\n",
    "            print(f\"Failed to load image {idx+1} from: {url} with status code {response.status_code}\")\n",
    "    except Exception as e:\n",
    "        print(f\"Error processing image {idx+1} from {url}: {e}\")\n"
   ]
  }
 ],
 "metadata": {
  "kernelspec": {
   "display_name": "Python 3",
   "language": "python",
   "name": "python3"
  },
  "language_info": {
   "codemirror_mode": {
    "name": "ipython",
    "version": 3
   },
   "file_extension": ".py",
   "mimetype": "text/x-python",
   "name": "python",
   "nbconvert_exporter": "python",
   "pygments_lexer": "ipython3",
   "version": "3.11.9"
  }
 },
 "nbformat": 4,
 "nbformat_minor": 2
}
