{
 "cells": [
  {
   "cell_type": "code",
   "execution_count": 3,
   "metadata": {},
   "outputs": [],
   "source": [
    "# %pip install --upgrade keras\n",
    "# %pip install --upgrade keras-cv\n",
    "# %pip install --upgrade keras-hub\n",
    "# %pip install --upgrade keras\n",
    "# %pip install --upgrade typing_extensions"
   ]
  },
  {
   "cell_type": "code",
   "execution_count": 4,
   "metadata": {},
   "outputs": [
    {
     "name": "stderr",
     "output_type": "stream",
     "text": [
      "ERROR:absl:cannot import name 'rlds' from partially initialized module 'tensorflow_datasets' (most likely due to a circular import) (C:\\Users\\Marc\\AppData\\Local\\Packages\\PythonSoftwareFoundation.Python.3.11_qbz5n2kfra8p0\\LocalCache\\local-packages\\Python311\\site-packages\\tensorflow_datasets\\__init__.py)\n",
      "Traceback (most recent call last):\n",
      "  File \"C:\\Users\\Marc\\AppData\\Local\\Packages\\PythonSoftwareFoundation.Python.3.11_qbz5n2kfra8p0\\LocalCache\\local-packages\\Python311\\site-packages\\tensorflow_datasets\\__init__.py\", line 79, in <module>\n",
      "    from tensorflow_datasets import rlds  # pylint: disable=g-bad-import-order\n",
      "    ^^^^^^^^^^^^^^^^^^^^^^^^^^^^^^^^^^^^\n",
      "ImportError: cannot import name 'rlds' from partially initialized module 'tensorflow_datasets' (most likely due to a circular import) (C:\\Users\\Marc\\AppData\\Local\\Packages\\PythonSoftwareFoundation.Python.3.11_qbz5n2kfra8p0\\LocalCache\\local-packages\\Python311\\site-packages\\tensorflow_datasets\\__init__.py)\n"
     ]
    },
    {
     "ename": "AttributeError",
     "evalue": "module 'tensorflow_datasets' has no attribute 'load'",
     "output_type": "error",
     "traceback": [
      "\u001b[31m---------------------------------------------------------------------------\u001b[39m",
      "\u001b[31mAttributeError\u001b[39m                            Traceback (most recent call last)",
      "\u001b[36mCell\u001b[39m\u001b[36m \u001b[39m\u001b[32mIn[4]\u001b[39m\u001b[32m, line 6\u001b[39m\n\u001b[32m      3\u001b[39m \u001b[38;5;28;01mimport\u001b[39;00m\u001b[38;5;250m \u001b[39m\u001b[34;01mtensorflow_datasets\u001b[39;00m\u001b[38;5;250m \u001b[39m\u001b[38;5;28;01mas\u001b[39;00m\u001b[38;5;250m \u001b[39m\u001b[34;01mtfds\u001b[39;00m\n\u001b[32m      5\u001b[39m \u001b[38;5;66;03m# Construct a tf.data.Dataset\u001b[39;00m\n\u001b[32m----> \u001b[39m\u001b[32m6\u001b[39m ds = \u001b[43mtfds\u001b[49m\u001b[43m.\u001b[49m\u001b[43mload\u001b[49m(\u001b[33m'\u001b[39m\u001b[33mmnist\u001b[39m\u001b[33m'\u001b[39m, split=\u001b[33m'\u001b[39m\u001b[33mtrain\u001b[39m\u001b[33m'\u001b[39m, shuffle_files=\u001b[38;5;28;01mTrue\u001b[39;00m)\n\u001b[32m      8\u001b[39m \u001b[38;5;66;03m# Build your input pipeline\u001b[39;00m\n\u001b[32m      9\u001b[39m ds = ds.shuffle(\u001b[32m1024\u001b[39m).batch(\u001b[32m32\u001b[39m).prefetch(tf.data.AUTOTUNE)\n",
      "\u001b[31mAttributeError\u001b[39m: module 'tensorflow_datasets' has no attribute 'load'"
     ]
    }
   ],
   "source": [
    "# https://www.youtube.com/watch?v=JIBsJx7U0Xw | lifesaver\n",
    "import tensorflow as tf\n",
    "import tensorflow_datasets as tfds\n",
    "\n",
    "# Construct a tf.data.Dataset\n",
    "ds = tfds.load('mnist', split='train', shuffle_files=True)\n",
    "\n",
    "# Build your input pipeline\n",
    "ds = ds.shuffle(1024).batch(32).prefetch(tf.data.AUTOTUNE)\n",
    "for example in ds.take(1):\n",
    "  image, label = example[\"image\"], example[\"label\"]"
   ]
  }
 ],
 "metadata": {
  "kernelspec": {
   "display_name": "Python 3",
   "language": "python",
   "name": "python3"
  },
  "language_info": {
   "codemirror_mode": {
    "name": "ipython",
    "version": 3
   },
   "file_extension": ".py",
   "mimetype": "text/x-python",
   "name": "python",
   "nbconvert_exporter": "python",
   "pygments_lexer": "ipython3",
   "version": "3.11.9"
  }
 },
 "nbformat": 4,
 "nbformat_minor": 2
}
